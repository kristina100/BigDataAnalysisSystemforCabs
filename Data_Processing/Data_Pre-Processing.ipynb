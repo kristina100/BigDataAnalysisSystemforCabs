{
 "cells": [
  {
   "cell_type": "code",
   "execution_count": 1,
   "id": "f5e3036e",
   "metadata": {},
   "outputs": [],
   "source": [
    "import math\n",
    "import random\n",
    "import numpy as np\n",
    "import pandas as pd\n",
    "from tqdm import tqdm"
   ]
  },
  {
   "cell_type": "markdown",
   "id": "12b52763",
   "metadata": {},
   "source": [
    "### 坐标转换"
   ]
  },
  {
   "cell_type": "code",
   "execution_count": 2,
   "id": "ec339320",
   "metadata": {},
   "outputs": [],
   "source": [
    "x_pi = 3.14159265358979324 * 3000.0 / 180.0\n",
    "# π\n",
    "pi = 3.1415926535897932384626\n",
    "# 长半轴\n",
    "a = 6378245.0\n",
    "# 偏心率平方\n",
    "ee = 0.00669342162296594323\n",
    "\n",
    "def wgs84_to_gcj02(lng, lat):\n",
    "    \"\"\"\n",
    "    WGS84转GCJ02(火星坐标系)\n",
    "    :param lng:WGS84坐标系的经度\n",
    "    :param lat:WGS84坐标系的纬度\n",
    "    :return:\n",
    "    \"\"\"\n",
    "    if out_of_china(lng, lat):  # 判断是否在国内\n",
    "        return [lng, lat]\n",
    "    dlat = _transformlat(lng - 105.0, lat - 35.0)\n",
    "    dlng = _transformlng(lng - 105.0, lat - 35.0)\n",
    "    radlat = lat / 180.0 * pi\n",
    "    magic = math.sin(radlat)\n",
    "    magic = 1 - ee * magic * magic\n",
    "    sqrtmagic = math.sqrt(magic)\n",
    "    dlat = (dlat * 180.0) / ((a * (1 - ee)) / (magic * sqrtmagic) * pi)\n",
    "    dlng = (dlng * 180.0) / (a / sqrtmagic * math.cos(radlat) * pi)\n",
    "    mglat = lat + dlat\n",
    "    mglng = lng + dlng\n",
    "    return [mglng, mglat]\n",
    "\n",
    "\n",
    "def out_of_china(lng, lat):\n",
    "    \"\"\"\n",
    "    判断是否在国内，不在国内不做偏移\n",
    "    :param lng:\n",
    "    :param lat:\n",
    "    :return:\n",
    "    \"\"\"\n",
    "    return not (lng > 73.66 and lng < 135.05 and lat > 3.86 and lat < 53.55)\n",
    "\n",
    "def _transformlat(lng, lat):\n",
    "    ret = -100.0 + 2.0 * lng + 3.0 * lat + 0.2 * lat * lat + \\\n",
    "          0.1 * lng * lat + 0.2 * math.sqrt(math.fabs(lng))\n",
    "    ret += (20.0 * math.sin(6.0 * lng * pi) + 20.0 *\n",
    "            math.sin(2.0 * lng * pi)) * 2.0 / 3.0\n",
    "    ret += (20.0 * math.sin(lat * pi) + 40.0 *\n",
    "            math.sin(lat / 3.0 * pi)) * 2.0 / 3.0\n",
    "    ret += (160.0 * math.sin(lat / 12.0 * pi) + 320 *\n",
    "            math.sin(lat * pi / 30.0)) * 2.0 / 3.0\n",
    "    return ret\n",
    "\n",
    "\n",
    "def _transformlng(lng, lat):\n",
    "    ret = 300.0 + lng + 2.0 * lat + 0.1 * lng * lng + \\\n",
    "          0.1 * lng * lat + 0.1 * math.sqrt(math.fabs(lng))\n",
    "    ret += (20.0 * math.sin(6.0 * lng * pi) + 20.0 *\n",
    "            math.sin(2.0 * lng * pi)) * 2.0 / 3.0\n",
    "    ret += (20.0 * math.sin(lng * pi) + 40.0 *\n",
    "            math.sin(lng / 3.0 * pi)) * 2.0 / 3.0\n",
    "    ret += (150.0 * math.sin(lng / 12.0 * pi) + 300.0 *\n",
    "            math.sin(lng / 30.0 * pi)) * 2.0 / 3.0\n",
    "    return ret"
   ]
  },
  {
   "cell_type": "markdown",
   "id": "e09ea1d6",
   "metadata": {},
   "source": [
    "### 读取.csv文件"
   ]
  },
  {
   "cell_type": "code",
   "execution_count": 3,
   "id": "fffe1d8f",
   "metadata": {},
   "outputs": [],
   "source": [
    "reader = pd.read_csv('day20170215.csv', iterator=True)\n",
    "#每个表都没有达到1亿的数据量,这里为了方便直接填了1亿\n",
    "try:\n",
    "    data = reader.get_chunk(100000000)\n",
    "except Exception as e:\n",
    "    print(e)"
   ]
  },
  {
   "cell_type": "markdown",
   "id": "ca2ded62",
   "metadata": {},
   "source": [
    "### 剔除异常数据和熄火状态的车辆"
   ]
  },
  {
   "cell_type": "code",
   "execution_count": 4,
   "id": "78052440",
   "metadata": {},
   "outputs": [
    {
     "data": {
      "text/html": [
       "<div>\n",
       "<style scoped>\n",
       "    .dataframe tbody tr th:only-of-type {\n",
       "        vertical-align: middle;\n",
       "    }\n",
       "\n",
       "    .dataframe tbody tr th {\n",
       "        vertical-align: top;\n",
       "    }\n",
       "\n",
       "    .dataframe thead th {\n",
       "        text-align: right;\n",
       "    }\n",
       "</style>\n",
       "<table border=\"1\" class=\"dataframe\">\n",
       "  <thead>\n",
       "    <tr style=\"text-align: right;\">\n",
       "      <th></th>\n",
       "      <th>LICENSEPLATENO</th>\n",
       "      <th>LONGITUDE</th>\n",
       "      <th>LATITUDE</th>\n",
       "      <th>CAR_STAT1</th>\n",
       "    </tr>\n",
       "  </thead>\n",
       "  <tbody>\n",
       "    <tr>\n",
       "      <th>0</th>\n",
       "      <td>粤AD733P</td>\n",
       "      <td>113.32040</td>\n",
       "      <td>23.13620</td>\n",
       "      <td>5</td>\n",
       "    </tr>\n",
       "    <tr>\n",
       "      <th>1</th>\n",
       "      <td>粤AQ4Q70</td>\n",
       "      <td>113.27130</td>\n",
       "      <td>23.20610</td>\n",
       "      <td>4</td>\n",
       "    </tr>\n",
       "    <tr>\n",
       "      <th>2</th>\n",
       "      <td>粤AP0P54</td>\n",
       "      <td>113.28370</td>\n",
       "      <td>23.20990</td>\n",
       "      <td>5</td>\n",
       "    </tr>\n",
       "    <tr>\n",
       "      <th>3</th>\n",
       "      <td>粤AZ7E21</td>\n",
       "      <td>113.34840</td>\n",
       "      <td>23.12760</td>\n",
       "      <td>5</td>\n",
       "    </tr>\n",
       "    <tr>\n",
       "      <th>4</th>\n",
       "      <td>粤A6KJ26</td>\n",
       "      <td>113.26330</td>\n",
       "      <td>22.99510</td>\n",
       "      <td>4</td>\n",
       "    </tr>\n",
       "    <tr>\n",
       "      <th>...</th>\n",
       "      <td>...</td>\n",
       "      <td>...</td>\n",
       "      <td>...</td>\n",
       "      <td>...</td>\n",
       "    </tr>\n",
       "    <tr>\n",
       "      <th>69514745</th>\n",
       "      <td>粤AD23S0</td>\n",
       "      <td>113.31841</td>\n",
       "      <td>23.03823</td>\n",
       "      <td>5</td>\n",
       "    </tr>\n",
       "    <tr>\n",
       "      <th>69514746</th>\n",
       "      <td>粤AW5Q04</td>\n",
       "      <td>113.32805</td>\n",
       "      <td>23.12357</td>\n",
       "      <td>5</td>\n",
       "    </tr>\n",
       "    <tr>\n",
       "      <th>69514747</th>\n",
       "      <td>粤AA71E4</td>\n",
       "      <td>113.29580</td>\n",
       "      <td>23.14821</td>\n",
       "      <td>4</td>\n",
       "    </tr>\n",
       "    <tr>\n",
       "      <th>69514748</th>\n",
       "      <td>粤AB74Y0</td>\n",
       "      <td>113.34416</td>\n",
       "      <td>23.13844</td>\n",
       "      <td>4</td>\n",
       "    </tr>\n",
       "    <tr>\n",
       "      <th>69514749</th>\n",
       "      <td>粤AA76Y1</td>\n",
       "      <td>113.27911</td>\n",
       "      <td>23.09564</td>\n",
       "      <td>5</td>\n",
       "    </tr>\n",
       "  </tbody>\n",
       "</table>\n",
       "<p>69514750 rows × 4 columns</p>\n",
       "</div>"
      ],
      "text/plain": [
       "         LICENSEPLATENO  LONGITUDE  LATITUDE  CAR_STAT1\n",
       "0               粤AD733P  113.32040  23.13620          5\n",
       "1               粤AQ4Q70  113.27130  23.20610          4\n",
       "2               粤AP0P54  113.28370  23.20990          5\n",
       "3               粤AZ7E21  113.34840  23.12760          5\n",
       "4               粤A6KJ26  113.26330  22.99510          4\n",
       "...                 ...        ...       ...        ...\n",
       "69514745        粤AD23S0  113.31841  23.03823          5\n",
       "69514746        粤AW5Q04  113.32805  23.12357          5\n",
       "69514747        粤AA71E4  113.29580  23.14821          4\n",
       "69514748        粤AB74Y0  113.34416  23.13844          4\n",
       "69514749        粤AA76Y1  113.27911  23.09564          5\n",
       "\n",
       "[69514750 rows x 4 columns]"
      ]
     },
     "execution_count": 4,
     "metadata": {},
     "output_type": "execute_result"
    }
   ],
   "source": [
    "data = data.drop(data[data.CAR_STAT1 == 7].index)\n",
    "data = data.drop(data[data.LONGITUDE == 0].index)\n",
    "data = data.drop(data[data.LATITUDE == 0].index)\n",
    "data = data.reset_index(drop=True)\n",
    "data"
   ]
  },
  {
   "cell_type": "code",
   "execution_count": 5,
   "id": "d8ccb37f",
   "metadata": {},
   "outputs": [],
   "source": [
    "data_ = np.array(data)"
   ]
  },
  {
   "cell_type": "markdown",
   "id": "2b119694",
   "metadata": {},
   "source": [
    "### 提取轨迹"
   ]
  },
  {
   "cell_type": "code",
   "execution_count": 6,
   "id": "d540da54",
   "metadata": {},
   "outputs": [
    {
     "name": "stderr",
     "output_type": "stream",
     "text": [
      "100%|██████████████████████████████████████████████████████████████████| 69514750/69514750 [04:53<00:00, 237078.26it/s]\n"
     ]
    }
   ],
   "source": [
    "taxi = {}\n",
    "with tqdm(total=len(data_)) as bar:\n",
    "    for i in range(len(data_)):\n",
    "        bar.update(1)\n",
    "        temp = [data_[i][1], data_[i][2], data_[i][3]]\n",
    "        if data_[i][0] not in taxi.keys():\n",
    "            taxi[data_[i][0]] = []\n",
    "        taxi[data_[i][0]].append(temp)"
   ]
  },
  {
   "cell_type": "code",
   "execution_count": 7,
   "id": "5cd3b5c4",
   "metadata": {},
   "outputs": [],
   "source": [
    "num = {}\n",
    "for key in taxi.keys():\n",
    "    num[key] = len(taxi[key])\n",
    "#对轨迹点数进行排序\n",
    "num = sorted(num.items(), key=lambda x:x[1], reverse=False)\n",
    "del num[0:1500]\n",
    "del num[-2000:-1]\n",
    "sample = random.sample(num, 800)"
   ]
  },
  {
   "cell_type": "code",
   "execution_count": 8,
   "id": "87f34b8a",
   "metadata": {},
   "outputs": [],
   "source": [
    "taxi_ = {}\n",
    "for item in sample:\n",
    "    taxi_[item[0]] = taxi[item[0]] "
   ]
  },
  {
   "cell_type": "code",
   "execution_count": 9,
   "id": "a44a982c",
   "metadata": {},
   "outputs": [
    {
     "name": "stderr",
     "output_type": "stream",
     "text": [
      "100%|████████████████████████████████████████████████████████████████████████████████| 800/800 [15:07<00:00,  1.13s/it]\n"
     ]
    }
   ],
   "source": [
    "empty_trajs = []\n",
    "passger_trajs = []\n",
    "with tqdm(total=len(taxi_)) as bar:\n",
    "    for key in taxi_.keys():\n",
    "        bar.update(1)\n",
    "        split = 0\n",
    "        for i in range(len(taxi_[key])-1):\n",
    "            if (taxi_[key][i][2] == 4) and (taxi_[key][i+1][2] == 5):\n",
    "                empty_trajs.append(np.array(taxi_[key])[split:i+1, 0:2])\n",
    "                split = i+1\n",
    "            if (taxi_[key][i][2] == 5) and (taxi_[key][i+1][2] == 4):\n",
    "                passger_trajs.append(np.array(taxi_[key])[split:i+1, 0:2])\n",
    "                split = i+1"
   ]
  },
  {
   "cell_type": "code",
   "execution_count": 11,
   "id": "5d3ad7af",
   "metadata": {},
   "outputs": [],
   "source": [
    "trajs = []\n",
    "for traj in passger_trajs:\n",
    "    if len(traj) > 100:\n",
    "        trajs.append(traj)"
   ]
  },
  {
   "cell_type": "markdown",
   "id": "e84c3954",
   "metadata": {},
   "source": [
    "### 进行坐标转换"
   ]
  },
  {
   "cell_type": "code",
   "execution_count": 14,
   "id": "f17478f5",
   "metadata": {},
   "outputs": [
    {
     "name": "stderr",
     "output_type": "stream",
     "text": [
      "713404it [00:10, 66173.23it/s]                                                                                         \n"
     ]
    }
   ],
   "source": [
    "final_trajs = {}\n",
    "with tqdm(total=len(trajs)) as bar:\n",
    "    for i in range(len(trajs)):\n",
    "        bar.update(1)\n",
    "        locations = []\n",
    "        for lng, lat in trajs[i]:\n",
    "            bar.update(1)\n",
    "            locations.append(wgs84_to_gcj02(lng, lat))\n",
    "        final_trajs[i] = locations"
   ]
  },
  {
   "cell_type": "markdown",
   "id": "9adfbf45",
   "metadata": {},
   "source": [
    "### 存入json文件"
   ]
  },
  {
   "cell_type": "code",
   "execution_count": 15,
   "id": "c6ae4816",
   "metadata": {},
   "outputs": [],
   "source": [
    "import json\n",
    "trajs_day_20170215 = json.dumps(final_trajs, ensure_ascii = False)\n",
    "fp1 = open('trajs_day_20170215.json', 'w+')\n",
    "fp1.write(trajs_day_20170215)\n",
    "fp1.close()"
   ]
  }
 ],
 "metadata": {
  "kernelspec": {
   "display_name": "Python 3",
   "language": "python",
   "name": "python3"
  },
  "language_info": {
   "codemirror_mode": {
    "name": "ipython",
    "version": 3
   },
   "file_extension": ".py",
   "mimetype": "text/x-python",
   "name": "python",
   "nbconvert_exporter": "python",
   "pygments_lexer": "ipython3",
   "version": "3.8.8"
  }
 },
 "nbformat": 4,
 "nbformat_minor": 5
}
